{
 "cells": [
  {
   "cell_type": "code",
   "execution_count": null,
   "metadata": {},
   "outputs": [],
   "source": [
    "import sgkit as sg\n",
    "import allel\n",
    "import plotly.express as px\n",
    "import seaborn as sns\n",
    "import dendropy as dp\n",
    "import matplotlib.pyplot as plt\n",
    "import pandas as pd\n",
    "from Bio import Phylo\n",
    "import numpy as np\n",
    "import os\n",
    "import glob\n",
    "from sklearn.mixture import GaussianMixture\n",
    "from sklearn.utils.extmath import row_norms"
   ]
  },
  {
   "cell_type": "code",
   "execution_count": null,
   "metadata": {},
   "outputs": [],
   "source": [
    "#palettes\n",
    "pop_code_cols = {\n",
    "    'APA' : '#ff7f00', #orange\n",
    "    'SAE' : '#6a3d9a', #dark purple\n",
    "    'SAR' : '#cab2d6', #ligher purple\n",
    "    'IRS' : '#c27a88', #not sure yet\n",
    "    'IRH' : '#c57fc9', #not sure yet\n",
    "    'INB' : '#96172e', #darkred\n",
    "    'INM' : '#f03e5e', #lightred\n",
    "    'DJI' : '#507d2a', #sap green\n",
    "    'ETB' : '#007272', #cobalt turq\n",
    "    'ETS' : '#33a02c',#green\n",
    "    'ETW' : '#a6cee3',#cerulean\n",
    "    'SUD' : '#fccf86',#ochre\n",
    "    'YEM' : '#CC7722'#pinkish\n",
    "}"
   ]
  },
  {
   "cell_type": "markdown",
   "metadata": {},
   "source": [
    "Treemix takes a tab delimited file of allele counts by population - let's define our populations here based on the countries and the pca"
   ]
  },
  {
   "cell_type": "code",
   "execution_count": null,
   "metadata": {},
   "outputs": [],
   "source": [
    "#define helper functions\n",
    "def select_random_genos(\n",
    "                    ds, \n",
    "                    numgenos,):\n",
    "                     #selects given number of genos at random\n",
    "                    keep_no = int(numgenos)\n",
    "                    keep_indices = np.random.choice(ds.call_genotype.shape[0], keep_no, replace=False)\n",
    "                    keep_indices.sort()\n",
    "                    thinned_callset = ds.isel(variants=~keep_indices)\n",
    "                    return(thinned_callset)\n",
    "                    \n",
    "\n",
    "def load_geno_ds(chrom, \n",
    "                sample_query=None, \n",
    "                numgenos=None, \n",
    "                sample_list=None, \n",
    "                start=None, \n",
    "                end=None, \n",
    "                min_minor_ac=0,\n",
    "                df_samples=df_samples):\n",
    "                 # load sample metadata\n",
    "     #load ds\n",
    "     ds = sg.load_dataset(f'/Users/dennistpw/Projects/AsGARD/data/variants_combined_cohorts/combined_cohorts.{chrom}.zarr')\n",
    "\n",
    "     #if sample query or list are specified, subset accordingly\n",
    "     if sample_query:\n",
    "          # locate selected samples\n",
    "          loc_samples = df_samples.eval(sample_query).values\n",
    "          df_samples = df_samples.loc[loc_samples, :]\n",
    "          ds = ds.isel(samples=loc_samples)\n",
    "     elif sample_list:\n",
    "          loc_samples = df_samples['sample_id'].isin(sample_list)\n",
    "          df_samples = df_samples.loc[loc_samples, :]\n",
    "          ds = ds.isel(samples=loc_samples)\n",
    "     else:\n",
    "          pass\n",
    "          \n",
    "     #if numgenos is set, subset \n",
    "     if numgenos:\n",
    "          ds_analysis = select_random_genos(ds, numgenos=numgenos)\n",
    "     else:\n",
    "          ds_analysis = ds\n",
    "\n",
    "     #if region is set, subset to region\n",
    "     if start:\n",
    "               #subset to region of interest\n",
    "              print(f\"subsetting genos to range {chrom}:{start}-{end}\")\n",
    "              ds_analysis = ds_analysis.set_index(variants=(\"variant_contig\", \"variant_position\")).sel(variants=(0, slice(start,end)))\n",
    "     else:\n",
    "            pass\n",
    "     \n",
    "     #if minmaf is specified, select minmaf     \n",
    "     ac = allel.GenotypeArray(ds_analysis['call_genotype']).count_alleles()\n",
    "     macbool = ac[:,1] >= min_minor_ac\n",
    "     print(f'selected {np.sum(macbool)} sites with a min mac > {min_minor_ac}')\n",
    "     ds_analysis = ds_analysis.sel(variants=(macbool))\n",
    "\n",
    "     #get accessible only\n",
    "     print('subsetting to accessible sites only')\n",
    "     accmask = ds_analysis['is_accessible'].compute()\n",
    "     ds_analysis = ds_analysis.sel(variants=(accmask))\n",
    "\n",
    "     #return completed ds\n",
    "     return(df_samples, ds_analysis)\n"
   ]
  },
  {
   "cell_type": "code",
   "execution_count": null,
   "metadata": {},
   "outputs": [],
   "source": [
    "#load metadata\n",
    "df_samples = pd.read_csv('/Users/dennistpw/Projects/AsGARD/metadata/cease_combinedmetadata_noqc.20250212.csv')\n",
    "#Get ds and df for 1 million snps\n",
    "df, ds = load_geno_ds(\n",
    "             numgenos = 1000000,\n",
    "             min_minor_ac=1,\n",
    "             chrom='CM023248',\n",
    "             df_samples=df_samples)"
   ]
  },
  {
   "cell_type": "code",
   "execution_count": null,
   "metadata": {},
   "outputs": [],
   "source": [
    "# Initialize an empty dictionary to store row indices for each level\n",
    "pop_dict = {}\n",
    "\n",
    "# Iterate through unique levels in the 'factor_column'\n",
    "for level in df_samples['pop_code'].unique():\n",
    "    # Get the row indices where the 'factor_column' matches the current level\n",
    "    indices = df_samples.index[df_samples['pop_code'] == level].tolist()\n",
    "    \n",
    "    # Store the indices in the dictionary with the level as the key\n",
    "    pop_dict[level] = indices\n",
    "\n",
    "# Remove dictionary entries with fewer than 5 values\n",
    "pop_dict = {key: value for key, value in pop_dict.items() if len(value) >= 5}\n",
    "\n",
    "#get all pops too\n",
    "pop_dict['all']  = df_samples.index.tolist()"
   ]
  },
  {
   "cell_type": "code",
   "execution_count": null,
   "metadata": {},
   "outputs": [],
   "source": [
    "# Load GTs and count alleles by subpop\n",
    "gt = allel.GenotypeArray(ds.call_genotype)\n",
    "ac_subpop = gt.count_alleles_subpops(pop_dict)"
   ]
  },
  {
   "cell_type": "code",
   "execution_count": null,
   "metadata": {},
   "outputs": [],
   "source": [
    "# Ascertain to SNPs segregating in the population\n",
    "is_seg_all = ac_subpop['all'].is_segregating()"
   ]
  },
  {
   "cell_type": "code",
   "execution_count": null,
   "metadata": {},
   "outputs": [],
   "source": [
    "\n",
    "combined_data = {}\n",
    "\n",
    "# Process each item in the dictionary\n",
    "for name, array in ac_subpop.items():\n",
    "    # Check if the array has at least two columns\n",
    "\n",
    "    #get seg sites\n",
    "    array = array.compress(is_seg_all)\n",
    "    if array.shape[1] < 2:\n",
    "        raise ValueError(f\"Array {name} does not have at least two columns\")\n",
    "    \n",
    "    # Combine each element of the two columns into a single string\n",
    "    combined_array = np.array([f\"{row[0]},{row[1]}\" for row in array])\n",
    "    \n",
    "    # Store the resulting array in the combined_data dictionary\n",
    "    combined_data[name] = combined_array\n",
    "\n",
    "# Convert the combined data into a DataFrame\n",
    "ac_df = pd.DataFrame(combined_data)\n",
    "\n",
    "ac_df = ac_df.drop('all', axis=1)\n",
    "\n",
    "#df_sample = df_sample.drop('all', axis=1)\n",
    "ac_df.to_csv('/Users/dennistpw/Projects/AsGARD/data/TreeMix_20240926/unascertained/afs_bypop_all.txt', sep='\\t', quoting=False, index=False)"
   ]
  },
  {
   "cell_type": "code",
   "execution_count": null,
   "metadata": {},
   "outputs": [],
   "source": [
    "!bgzip /Users/dennistpw/Projects/AsGARD/data/TreeMix_20240926/unascertained/afs_bypop_all.txt"
   ]
  },
  {
   "cell_type": "code",
   "execution_count": null,
   "metadata": {},
   "outputs": [],
   "source": [
    "!mkdir /Users/dennistpw/Projects/AsGARD/data/TreeMix_20240926/run_20250212"
   ]
  },
  {
   "cell_type": "code",
   "execution_count": null,
   "metadata": {},
   "outputs": [],
   "source": [
    "#Run treemix\n",
    "!seq 1 1000 | parallel -j 10 /home/dennist/software/treemix/treemix-1.13/src/treemix -i /Users/dennistpw/Projects/AsGARD/data/TreeMix_20240926/unascertained/afs_bypop_all.txt.gz -o unasc.M$M.boot{} -m 0 -bootstrap 100 -k 100000  > stem.M$M.boot{}.log\n",
    "#Run dendropy sumtrees to get bootstrapped consensus tree\n",
    "!sumtrees -o result.allasc.tre *.treeout\n",
    "#Plot in R as I prefer ape and phytools"
   ]
  }
 ],
 "metadata": {
  "kernelspec": {
   "display_name": "cease_local",
   "language": "python",
   "name": "python3"
  },
  "language_info": {
   "codemirror_mode": {
    "name": "ipython",
    "version": 3
   },
   "file_extension": ".py",
   "mimetype": "text/x-python",
   "name": "python",
   "nbconvert_exporter": "python",
   "pygments_lexer": "ipython3",
   "version": "3.11.9"
  }
 },
 "nbformat": 4,
 "nbformat_minor": 2
}

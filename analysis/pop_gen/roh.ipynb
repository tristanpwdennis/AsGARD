{
 "cells": [
  {
   "cell_type": "markdown",
   "metadata": {},
   "source": [
    "## ROH analysis\n",
    "\n",
    "This notebook analyses the output of bcftools ROH, and plots the joint distribution of fROH and nROH per-individual"
   ]
  },
  {
   "cell_type": "code",
   "execution_count": null,
   "metadata": {},
   "outputs": [],
   "source": [
    "# Import our libs\n",
    "import sgkit as sg\n",
    "import hmmlearn\n",
    "import json\n",
    "import hashlib\n",
    "import allel\n",
    "import plotly.express as px\n",
    "import seaborn as sns\n",
    "import matplotlib.pyplot as plt\n",
    "import pandas as pd\n",
    "import numpy as np"
   ]
  },
  {
   "cell_type": "code",
   "execution_count": null,
   "metadata": {},
   "outputs": [],
   "source": [
    "# Define some useful parameters\n",
    "\n",
    "# Load and filter metadata\n",
    "df_samples = pd.read_csv('/Users/dennistpw/Projects/AsGARD/metadata/cease_combinedmetadata_noqc.20250212.csv')\n",
    "\n",
    "# Chrom / lengths dict\n",
    "scaflens={'CM023248' : 93706023,\n",
    "'CM023249' : 88747589,\n",
    "'CM023250' : 22713616}\n",
    "\n",
    "# px config\n",
    "config = {\n",
    "  'toImageButtonOptions': {\n",
    "    'format': 'png', # one of png, svg, jpeg, webp\n",
    "    'filename': 'custom_image',\n",
    "    'height': 500,\n",
    "    'width': 700,\n",
    "    'scale':6 # Multiply title/legend/axis/canvas sizes by this factor\n",
    "  }\n",
    "}\n",
    "\n",
    "# Palettes\n",
    "pop_code_cols = {\n",
    "    'APA' : '#ff7f00', #orange\n",
    "    'SAE' : '#6a3d9a', #dark purple\n",
    "    'SAR' : '#cab2d6', #ligher purple\n",
    "    'IRS' : '#c27a88', #not sure yet\n",
    "    'IRH' : '#c57fc9', #not sure yet\n",
    "    'INB' : '#96172e', #darkred\n",
    "    'INM' : '#f03e5e', #lightred\n",
    "    'DJI' : '#507d2a', #sap green\n",
    "    'ETB' : '#007272', #cobalt turq\n",
    "    'ETS' : '#33a02c',#green\n",
    "    'ETW' : '#a6cee3',#cerulean\n",
    "    'SUD' : '#fccf86',#ochre\n",
    "    'YEM' : '#CC7722'#pinkish\n",
    "}"
   ]
  },
  {
   "cell_type": "code",
   "execution_count": null,
   "metadata": {},
   "outputs": [],
   "source": [
    "# Define functions for analysis\n",
    "\n",
    "# Hashing func\n",
    "def hash_params(*args, **kwargs):\n",
    "    \"\"\"Helper function to hash analysis parameters.\"\"\"\n",
    "    o = {\n",
    "        'args': args,\n",
    "        'kwargs': kwargs\n",
    "    }\n",
    "    s = json.dumps(o, sort_keys=True).encode()\n",
    "    h = hashlib.md5(s).hexdigest()\n",
    "    return h\n",
    "\n",
    "def infer_roh(ind, chrom, analysis_name, results_dir):\n",
    "\n",
    "    # Construct a key to save the results under\n",
    "    results_key = hash_params(\n",
    "        ind=ind,\n",
    "        chrom=chrom,\n",
    "        analysis_name=analysis_name\n",
    "    )\n",
    "\n",
    "    # Define paths for results files\n",
    "    data_path = f'{results_dir}/{results_key}-roh.csv'\n",
    "\n",
    "    try:\n",
    "        # Try to load previously generated results\n",
    "        df_roh = pd.read_csv(data_path)\n",
    "        return df_roh\n",
    "    except FileNotFoundError:\n",
    "        # No previous results available, need to run analysis\n",
    "        print(f'running analysis: {results_key}')\n",
    "\n",
    "    # Load data\n",
    "    ds = sg.load_dataset(f'/Users/dennistpw/Projects/AsGARD/data/variants_combined_cohorts/combined_cohorts.{chrom}.zarr')\n",
    "\n",
    "    # Locate selected samples\n",
    "    loc_samples = df_samples['sample_id'] == ind\n",
    "    ds = ds.isel(samples=loc_samples)\n",
    "\n",
    "    # Subset to accessible sites only and load genotypes\n",
    "    print('subsetting to accessible sites only')\n",
    "    accmask = ds['is_accessible'].compute()\n",
    "    ds = ds.sel(variants=(accmask))\n",
    "    gt = allel.GenotypeArray(ds['call_genotype'])\n",
    "    gt = gt[:,0]\n",
    "\n",
    "    # Get variant position\n",
    "    pos = ds['variant_position'].compute()\n",
    "\n",
    "    # Infer ROH for ind / chrom\n",
    "    print(f'computing ROH for {ind}, {chrom}')\n",
    "    df_roh = allel.roh_mhmm(gv=gt, pos=pos, contig_size = scaflens[chrom])[0]\n",
    "    df_roh['ind'] = ind\n",
    "    df_roh['chrom'] = chrom\n",
    "    \n",
    "    \n",
    "    # Save results to hash cache\n",
    "    df_roh.to_csv(data_path, index=False)\n",
    "    print(f'saved results: {results_key}')\n",
    "    return(df_roh)\n",
    "\n",
    "# Plotting function for big ROH df\n",
    "def plot_roh(\n",
    "        roh_df,\n",
    "        length = 1000,\n",
    "        attr1 = 'fROH',\n",
    "        attr2 = 'count',\n",
    "        colour='analysis_pop',\n",
    "        tit = 'allel',\n",
    "        metadata = df_samples,\n",
    "        palette = px.colors.qualitative.Plotly,\n",
    "        **kwargs,\n",
    "        ):\n",
    "    \n",
    "    # Aggregate roh data and get fROH\n",
    "    roh_df = roh_df[roh_df['length'] > length]\n",
    "    roh_data_agg = []\n",
    "    roh_data_agg = roh_df.groupby('ind')['length'].agg(['count', 'sum', 'median', 'skew'])\n",
    "    roh_data_agg['fROH'] = roh_data_agg['sum'] / sum(scaflens.values())\n",
    "    \n",
    "    # Join to df_samples by sample_id\n",
    "    metadata = metadata.set_index('sample_id', drop=False)\n",
    "    roh_data_agg = roh_data_agg.join(metadata)\n",
    "    roh_data_agg['size'] = 1 #hack to enable size control of pts\n",
    "\n",
    "    # Define plot options\n",
    "    # Labels\n",
    "    labs = (f\"nROH > {length/1000} kb\", 'fROH', 'State'), #tuple of labels\n",
    "\n",
    "    plot_kwargs = dict(\n",
    "        width=800,\n",
    "        height=600,\n",
    "        template='simple_white',\n",
    "        hover_name='sample_id',\n",
    "        title = f'{tit} ROH output, length > {length}',\n",
    "        hover_data=[\n",
    "            'sample_id',\n",
    "            'admin1_name',\n",
    "            'location', \n",
    "            'country', \n",
    "        ],\n",
    "        size='size',\n",
    "        color_discrete_map = palette,\n",
    "        size_max=8,\n",
    "        opacity=0.9,\n",
    "        render_mode='svg',\n",
    "    )\n",
    "\n",
    "    # apply any user overrides\n",
    "    plot_kwargs.update(kwargs)\n",
    "\n",
    "    fig = px.scatter(roh_data_agg,\n",
    "            x = attr1,\n",
    "            y = attr2,\n",
    "            color=colour,\n",
    "            **plot_kwargs)\n",
    "    fig.show()\n",
    "    #return aggregate data\n",
    "    return(roh_data_agg)\n"
   ]
  },
  {
   "cell_type": "code",
   "execution_count": null,
   "metadata": {},
   "outputs": [],
   "source": [
    "# Iterate over inds and chroms and infer ROH. This takes about a day using a single processor on my laptop for 500 mosquitoes\n",
    "# Could / should probably speed this up by multiprocessing.\n",
    "rohlist = []\n",
    "for chrom in scaflens.keys():\n",
    "    for ind in df_samples['sample_id']:\n",
    "        roh_df = infer_roh(ind, chrom, 'default', '../data/roh_20240920/')\n",
    "        rohlist.append(roh_df)"
   ]
  },
  {
   "cell_type": "code",
   "execution_count": null,
   "metadata": {},
   "outputs": [],
   "source": [
    "#Concat into a big dataframe\n",
    "roh_data = pd.concat(rohlist)"
   ]
  },
  {
   "cell_type": "code",
   "execution_count": null,
   "metadata": {},
   "outputs": [],
   "source": [
    "#have a look at total length distribution by chrom\n",
    "fig = px.histogram(roh_data, x=\"length\", facet_col='chrom')\n",
    "fig.show()"
   ]
  },
  {
   "cell_type": "markdown",
   "metadata": {},
   "source": [
    "Ok, the long tail makes this distribution impossible to visualise - let's try truncating the tail"
   ]
  },
  {
   "cell_type": "code",
   "execution_count": null,
   "metadata": {},
   "outputs": [],
   "source": [
    "#have a look at total length distribution by chrom - with length filter of < 50k\n",
    "fig = px.histogram(roh_data[roh_data['length'] < 50000], x=\"length\", facet_col='chrom')\n",
    "fig.show()"
   ]
  },
  {
   "cell_type": "markdown",
   "metadata": {},
   "source": [
    "This is more informative - most ROH in the genome are below 20kb. In Ag1000G they use a length cutoff of 100k.\n",
    "The scale of LD is important for understanding whether we are falsely inferring short linkage blocks with ROH. However, short LD blocks are still reflective of ancestral demographic events. Pemberton sheep study examines ROH/IBD length over different categories, so let's try this here with: all segments, segments > 100kb only, segments over 1Mb only, and short (<100kb segments>) only."
   ]
  },
  {
   "cell_type": "markdown",
   "metadata": {},
   "source": [
    "While we're doing this, let's analyse bcftools roh output alongside."
   ]
  },
  {
   "cell_type": "code",
   "execution_count": null,
   "metadata": {},
   "outputs": [],
   "source": [
    "cols = ['#a6cee3','#1f78b4','#b2df8a','#33a02c','#fb9a99','#e31a1c','#fdbf6f','#ff7f00','#cab2d6']\n",
    "\n",
    "roh_0 = plot_roh(attr2 = 'count',\n",
    "         length=0,\n",
    "         roh_df=roh_data,\n",
    "         tit = 'bcftools',\n",
    "         palette=analysis_popcols)"
   ]
  },
  {
   "cell_type": "markdown",
   "metadata": {},
   "source": [
    "Some interesting signals here - clearly more ROH in Saudi and India, afgh and pak but at least in the native range, esp in afgh.pak, F tends to be much lower. Perhaps as this is the much more established population? Much longer tails, much higher F in invasive population."
   ]
  },
  {
   "cell_type": "code",
   "execution_count": null,
   "metadata": {},
   "outputs": [],
   "source": [
    "roh_agg = plot_roh(attr2 = 'count',\n",
    "         length=25_000,\n",
    "         roh_df=roh_data,\n",
    "        palette=analysis_popcols)"
   ]
  },
  {
   "cell_type": "markdown",
   "metadata": {},
   "source": [
    "Applying a 25kb length filter removes most of the Pakistan and Yemeni segments"
   ]
  },
  {
   "cell_type": "code",
   "execution_count": null,
   "metadata": {},
   "outputs": [],
   "source": [
    "roh_100k = plot_roh(attr2 = 'count',\n",
    "         length=100_000,\n",
    "         roh_df=roh_data,\n",
    "        palette=pop_code_cols)"
   ]
  },
  {
   "cell_type": "markdown",
   "metadata": {},
   "source": [
    "Now they begin to resemble each other much more. bcftools seems to generally call more ROH than scikit allel. Which one do we pick?"
   ]
  },
  {
   "cell_type": "code",
   "execution_count": null,
   "metadata": {},
   "outputs": [],
   "source": [
    "roh_agg = plot_roh(attr2 = 'count',\n",
    "         length=1e6,\n",
    "         roh_df=roh_data,\n",
    "        palette=analysis_popcols)"
   ]
  },
  {
   "cell_type": "code",
   "execution_count": null,
   "metadata": {},
   "outputs": [],
   "source": [
    "from matplotlib.ticker import LinearLocator, MaxNLocator, FuncFormatter\n",
    "sns.set_style(\"ticks\")\n",
    "\n",
    "\n",
    "# Plot for paper\n",
    "def plot_roh_for_paper(df, figname):\n",
    "\n",
    "\n",
    "    sns.set_theme(rc={'figure.figsize':(7,7)}, style=\"ticks\")\n",
    "\n",
    "    scatter_kws = {\n",
    "        's': 150,  # Point size\n",
    "        'edgecolor': 'white',  # Thin white boundary\n",
    "        'linewidth': 0.5,  # Thickness of the boundary\n",
    "        'alpha': 0.6  # Point opacity (80% opacity)\n",
    "    } \n",
    "\n",
    "\n",
    "    # Plot the first scatterplot\n",
    "    g = sns.scatterplot(data=df, x='fROH', y='count', hue='pop_code', palette=pop_code_cols, **scatter_kws)\n",
    "    \n",
    "    #Format axes and rm legend\n",
    "    g.set_ylim(10, 210)\n",
    "    g.set_xlim(0, 0.7)\n",
    "    g.set(xlabel='fROH', ylabel='nROH')\n",
    "    g.xaxis.set_major_locator(MaxNLocator(nbins=4, integer=True))  # 5 ticks on the x-axis\n",
    "    g.yaxis.set_major_locator(MaxNLocator(4, integer=True))  # 5 ticks on the x-axis\n",
    "\n",
    "    #g.yaxis.set_major_locator(MaxNLocator(integer=True))  # Integer ticks on the y-axis\n",
    "    g.xaxis.set_major_formatter(FuncFormatter(lambda x, _: f'{x:.2g}'))\n",
    "    #g.spines['left'].set_visible(False)\n",
    "    #g.spines['bottom'].set_visible(False)  # Remove x-axis spine\n",
    "    g.spines['right'].set_visible(False)  # Remove x-axis spine\n",
    "    g.spines['top'].set_visible(False)  # Remove x-axis spine\n",
    "    g.spines['left'].set_position(('outward', 10))  # Move the left spine further to the left\n",
    "    g.spines['bottom'].set_position(('outward', 10))  # Move the left spine further to the left\n",
    "    g.yaxis.set_tick_params(labelsize = 14)\n",
    "    g.xaxis.set_tick_params(labelsize = 14)\n",
    "\n",
    "   # Set axis labels and font size\n",
    "    g.set_xlabel('fROH', fontsize=16)\n",
    "    g.set_ylabel('nROH', fontsize=16)\n",
    "    g.legend(title='Cohort')\n",
    "    #rm spines\n",
    "    #g.legend_.remove()\n",
    "\n",
    "\n",
    "    # Despine the axes\n",
    "\n",
    "    plt.savefig(f'../figures/{figname}.svg', format='svg')\n",
    "\n",
    "roh_plot = roh_100k[roh_100k['fROH'] < 0.9]\n",
    "\n",
    "# Make final ROH for manuscript\n",
    "plot_roh_for_paper(roh_plot,' roh_1e5.svg')"
   ]
  },
  {
   "cell_type": "code",
   "execution_count": null,
   "metadata": {},
   "outputs": [],
   "source": [
    "# Plot scatterplots of fROH by location\n",
    "\n",
    "# Aggregate roh data and get fROH\n",
    "roh_df = roh_data[roh_data['length'] > 1e5]\n",
    "roh_data_agg = []\n",
    "roh_data_agg = roh_df.groupby('ind')['length'].agg(['count', 'sum', 'median', 'skew'])\n",
    "roh_data_agg['fROH'] = roh_data_agg['sum'] / sum(scaflens.values())\n",
    "\n",
    "# Join to df_samples by sample_id\n",
    "metadata = df_samples.set_index('sample_id', drop=False)\n",
    "roh_data_agg = roh_data_agg.join(metadata)\n",
    "roh_data_agg['size'] = 1 #hack to enable size control of pts\n",
    "\n",
    "roh_data_agg = roh_data_agg[(roh_data_agg['country'] == \"Ethiopia\") | (roh_data_agg['country'] == \"Djibouti\")]\n",
    "\n",
    "# Define plot options\n",
    "# Labels\n",
    "#labs = (f\"nROH > {length/1000} kb\", 'fROH', 'State'), #tuple of labels\n",
    "\n",
    "plot_kwargs = dict(\n",
    "    width=800,\n",
    "    height=600,\n",
    "    template='simple_white',\n",
    "    hover_name='sample_id',\n",
    "    title = f'ROH output, length > 1e5',\n",
    "    hover_data=[\n",
    "        'sample_id',\n",
    "        'admin1_name',\n",
    "        'location', \n",
    "        'country', \n",
    "    ],\n",
    "    size='size',\n",
    "    #color_discrete_map = palette,\n",
    "    size_max=8,\n",
    "    opacity=0.9,\n",
    "    render_mode='svg',\n",
    ")\n",
    "\n",
    "# apply any user overrides\n",
    "#plot_kwargs.update(kwargs)\n",
    "\n",
    "fig = px.scatter(roh_data_agg,\n",
    "        x = 'fROH',\n",
    "        y = 'count',\n",
    "        color='location',\n",
    "        **plot_kwargs)\n",
    "fig.show()"
   ]
  },
  {
   "cell_type": "markdown",
   "metadata": {},
   "source": [
    "We can see that the properties of the f/nROH distribution differ by length. The literature suggests that inference of ROH shorter than the typical LD length is prone to artefacts (though the distinction between ROH and LD segments as relics of ancestry is unclear, as LD segments are also indicative of ancestry, albeit in the recent past)."
   ]
  },
  {
   "cell_type": "markdown",
   "metadata": {},
   "source": [
    "Many populations show signs of extreme inbreeding - fROH of 0.2 is still quite high for mosquitoes! Even for humans, some of the more inbred human pops (see Ceballos, 2018) have fROH of around 0.1, and An. gambiae for the most part are below 0.1.\n",
    "\n",
    "Different demographic events leave footprints in the length and number of ROH in the genome. Thus, it is possible to date demographic events based on different ROH distributions. Each population and species has specific ROH characteristics - see [Pemberton et al, 2012](https://www.cell.com/ajhg/pdf/S0002-9297(12)00323-0.pdf). This paper (and other subsequently) apply clustering approaches to identify different categories of ROH lengths in different population.\n",
    "\n",
    "Pemberton paper uses `mclust` in R - this is a Gaussian mixture based model for clustering data. This method is also implemented in `scikit-learn`. A Gaussian mixture model is a probabilistic model that assumes all data points are generated from a mixture of finite Gaussians with unknown parameters. Mixture models generalise k-means clustering to incorporate information about the covariance of the data. K-means is an algorithm, where GMM is a model."
   ]
  },
  {
   "cell_type": "markdown",
   "metadata": {},
   "source": [
    "Another interesting paper on ROH distributions, this time in soay sheep uses the expected generation time and recombination rate to infer likely ROH ages. The equation g = 100 / (2rL) where g = generation time (years), r = recombination rate in cm/Mb-1, and L = segment length in Mb, can be used to date ROH segments. Assuming a recombination rate similar to An. gambiae - a genomewide average of around 1cm/Mb-1, or dividing the corrected (see (this paper)[https://academic.oup.com/genetics/article/153/1/251/6047849#325536228]) chr 2 linkage map length by chrom 2 length in bp (128/93.1), yields a genomewide average of around 1.37cm/Mb-1. An example then - for a group of ROH with length 1Mb, we would expect these to be 37 generations old? Assuming a generation time in Anopheles of around 11 (verify/modify this for a range), that puts a 1Mb segment to be around 3 years old."
   ]
  }
 ],
 "metadata": {
  "kernelspec": {
   "display_name": "cease_local",
   "language": "python",
   "name": "python3"
  },
  "language_info": {
   "codemirror_mode": {
    "name": "ipython",
    "version": 3
   },
   "file_extension": ".py",
   "mimetype": "text/x-python",
   "name": "python",
   "nbconvert_exporter": "python",
   "pygments_lexer": "ipython3",
   "version": "3.11.9"
  },
  "orig_nbformat": 4
 },
 "nbformat": 4,
 "nbformat_minor": 2
}

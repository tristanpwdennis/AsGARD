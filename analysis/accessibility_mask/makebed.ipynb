{
 "cells": [
  {
   "cell_type": "code",
   "execution_count": null,
   "metadata": {},
   "outputs": [],
   "source": [
    "def load_bed_file(bed_file):\n",
    "    bed_intervals = []\n",
    "    with open(bed_file, 'r') as file:\n",
    "        for line in file:\n",
    "            parts = line.strip().split('\\t')\n",
    "            chrom = parts[0]\n",
    "            start = int(parts[1])\n",
    "            end = int(parts[2])\n",
    "            bed_intervals.append((chrom, start, end))\n",
    "    return bed_intervals\n",
    "\n",
    "def genome_coverage(bed_intervals, genome_size):\n",
    "    coverage = [False] * genome_size\n",
    "    for chrom, start, end in bed_intervals:\n",
    "        for i in range(start, end):\n",
    "            coverage[i] = True\n",
    "    return coverage\n",
    "\n",
    "def main(bed_file, genome_size, output_file):\n",
    "    bed_intervals = load_bed_file(bed_file)\n",
    "    coverage = genome_coverage(bed_intervals, genome_size)\n",
    "    with open(output_file, 'w') as file:\n",
    "        for i in range(genome_size):\n",
    "            file.write(f\"{coverage[i]}\\n\")\n",
    "\n",
    "if __name__ == \"__main__\":\n",
    "    bed_file = \"test.bed\"\n",
    "    genome_size = 771201  # Change this to the size of your genome\n",
    "    output_file = \"genome_coverage.txt\"\n",
    "    main(bed_file, genome_size, output_file)"
   ]
  }
 ],
 "metadata": {
  "language_info": {
   "name": "python"
  }
 },
 "nbformat": 4,
 "nbformat_minor": 2
}

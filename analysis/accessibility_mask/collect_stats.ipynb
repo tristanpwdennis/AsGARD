{
 "cells": [
  {
   "cell_type": "code",
   "execution_count": null,
   "metadata": {},
   "outputs": [],
   "source": [
    "import glob\n",
    "import os\n",
    "import gzip\n",
    "import pandas as pd\n",
    "import zarr\n",
    "import numpy as np\n",
    "\n",
    "\n",
    "# Function to process a single file and extract a specific column by name\n",
    "def process_file(input_file, col_index):\n",
    "    with gzip.open(input_file, 'rt') as f:\n",
    "            data = np.loadtxt(input_file, delimiter='\\t', skiprows=1, usecols=range(2,9))  # Load data from the file, skipping the header\n",
    "            column = data[:, col_index]  # Select the specified column\n",
    "            return column  # Remove the first row of the column\n",
    "\n",
    "\n",
    "#function to calculate proportion of properly mapped reads over a site\n",
    "def return_prop_mapq(input_file):\n",
    "    data = np.loadtxt(input_file, delimiter='\\t', skiprows=1, usecols=range(2,9))  # Load data from the file, skipping the header\n",
    "    column =data[:, 1] / data[:, 0]  # Remove the first row of the column\n",
    "    column[np.isnan(column)] = 0\n",
    "    return column\n",
    "\n",
    "#dict of colnames and indices\n",
    "colname_dict = {0:'reads_all',1:'reads_pp', 2:'reads_mapq0',3:'reads_mapq0_pp',4:'reads_mapq0_pp',5:'rms_mapq',6:'rms_mapq_pp',7:'max_mapq',8:'max_mapq_pp'}\n",
    "\n",
    "# Pattern to match input files\n",
    "input_pattern = '*.test.gz'  # Adjust the pattern to match your files\n",
    "\n",
    "# List of input files\n",
    "input_files = glob.glob(input_pattern)\n",
    "\n",
    "# Select column indices for each of the desired columns\n",
    "column_indices = [0, 1, 3, 6]\n",
    "\n",
    "for index in column_indices:\n",
    "\n",
    "    #init indname\n",
    "    sep = '_'\n",
    "    stripped = input_file.split(sep, 1)[0]\n",
    "\n",
    "    #init zarr\n",
    "    zarrname = colname_dict[index]\n",
    "\n",
    "    # Save concatenated array as zarr \n",
    "    out_zarr = f\"data/{colname_dict[index]}.zarr\"\n",
    "\n",
    "    root = zarr.open(out_zarr, mode='w')\n",
    "\n",
    "\n",
    "    for input_file in input_files:\n",
    "        print(f'Collecting {colname_dict[index]} from {input_file}')\n",
    "        column = process_file(input_file, index)\n",
    "        sep = '_'\n",
    "        indname = input_file.split(sep, 1)[0]\n",
    "\n",
    "\n",
    "\n",
    "    zarr.save(f'data/{output_dir}', concatenated_array)"
   ]
  },
  {
   "cell_type": "code",
   "execution_count": 100,
   "metadata": {},
   "outputs": [],
   "source": [
    "import dask\n",
    "import dask.array as da\n",
    "from dask.diagnostics import ProgressBar\n",
    "import zarr\n",
    "import numpy as np\n",
    "import pickle as pkl\n",
    "import xarray as xr\n",
    "import glob\n",
    "import seaborn as sns\n",
    "from scipy import stats\n",
    "from dask.distributed import Client\n",
    "from numba import jit\n"
   ]
  },
  {
   "cell_type": "code",
   "execution_count": 57,
   "metadata": {},
   "outputs": [],
   "source": [
    "reads_all = zarr.open('/home/dennist/lstm_data/cease/variants_bycohort/sud.pak.cohort_20231808/results_germline_21.8.23/data/reads_all.zarr/')\n",
    "\n",
    "# Pattern to match input files\n",
    "input_pattern = '*.mapq.gz'  # Adjust the pattern to match your files\n",
    "\n",
    "# List of input files\n",
    "input_files = glob.glob(input_pattern)\n",
    "\n",
    "# Select column indices for each of the desired columns\n",
    "column_indices = [0, 1, 3, 6]\n",
    "\n",
    "#for ind in all_indames\n",
    "stacked_array_list = []\n",
    "mods = []\n",
    "#loop to get mode\n",
    "for file in input_files:\n",
    "    #init indname\n",
    "    sep = '_'\n",
    "    stripped = file.split(sep, 1)[0]\n",
    "    \n",
    "    array_1 = da.from_zarr(reads_all[stripped])\n",
    "\n",
    "    stacked_array_list.append(array_1)\n",
    "\n",
    "\n",
    "#make combined array from zarr\n",
    "#allarrays = da.stack(stacked_array_list, axis=1)\n",
    "#x = allarrays.rechunk(allarrays.chunksize) "
   ]
  },
  {
   "cell_type": "markdown",
   "metadata": {},
   "source": [
    "This is taking ages. Let's break down what's taking so long. Starting with calculating the mode."
   ]
  },
  {
   "cell_type": "code",
   "execution_count": 84,
   "metadata": {},
   "outputs": [
    {
     "name": "stdout",
     "output_type": "stream",
     "text": [
      "CPU times: user 4.3 s, sys: 4.91 s, total: 9.22 s\n",
      "Wall time: 7.57 s\n"
     ]
    }
   ],
   "source": [
    "%%time\n",
    "#pick an array, subsample some rows\n",
    "arr = stacked_array_list[0].compute()\n"
   ]
  },
  {
   "cell_type": "code",
   "execution_count": null,
   "metadata": {},
   "outputs": [],
   "source": [
    "%%time\n",
    "#subsample some rows\n",
    "sub_arr = np.random.choice(arr, 4_000_000, replace=False)"
   ]
  },
  {
   "cell_type": "code",
   "execution_count": 90,
   "metadata": {},
   "outputs": [
    {
     "name": "stdout",
     "output_type": "stream",
     "text": [
      "Mode: ModeResult(mode=24.0, count=9888218)\n",
      "CPU times: user 161 µs, sys: 41 µs, total: 202 µs\n",
      "Wall time: 191 µs\n"
     ]
    }
   ],
   "source": [
    "%%time\n",
    "mode = stats.mode(stacked_array_list[3])\n",
    "print(\"Mode:\",mode)"
   ]
  },
  {
   "cell_type": "code",
   "execution_count": 86,
   "metadata": {},
   "outputs": [
    {
     "name": "stdout",
     "output_type": "stream",
     "text": [
      "CPU times: user 11 µs, sys: 2 µs, total: 13 µs\n",
      "Wall time: 25 µs\n",
      "Mode: 24.0\n"
     ]
    }
   ],
   "source": [
    "%time\n",
    "@jit\n",
    "def calculate_mode(arr):\n",
    "    # Initialize variables to store mode and its count\n",
    "    mode = np.nan\n",
    "    max_count = 0\n",
    "    \n",
    "    # Count occurrences of each unique element\n",
    "    max_val = np.max(arr)\n",
    "    counts = np.zeros(int(max_val) + 1, dtype=np.int64)\n",
    "    for num in arr:\n",
    "        if not np.isnan(num):\n",
    "            counts[int(num)] += 1\n",
    "        \n",
    "    # Find the element with the highest count\n",
    "    for i in range(len(counts)):\n",
    "        if counts[i] > max_count:\n",
    "            max_count = counts[i]\n",
    "            mode = i\n",
    "            \n",
    "    return mode\n",
    "\n",
    "# Example usage:\n",
    "print(\"Mode:\", calculate_mode(arr))"
   ]
  },
  {
   "cell_type": "markdown",
   "metadata": {},
   "source": [
    "So numba is for sure faster than scipy here"
   ]
  },
  {
   "cell_type": "code",
   "execution_count": 92,
   "metadata": {},
   "outputs": [
    {
     "name": "stdout",
     "output_type": "stream",
     "text": [
      "Mode: 25.0\n",
      "CPU times: user 4.92 s, sys: 4.68 s, total: 9.6 s\n",
      "Wall time: 8.16 s\n"
     ]
    }
   ],
   "source": [
    "%%time\n",
    "print(\"Mode:\", calculate_mode(stacked_array_list[4].compute()))"
   ]
  },
  {
   "cell_type": "markdown",
   "metadata": {},
   "source": [
    "So it takes 8 seconds to calculate the modal coverage over a single sample. So let's do this for all samples."
   ]
  },
  {
   "cell_type": "code",
   "execution_count": 95,
   "metadata": {},
   "outputs": [],
   "source": [
    "modes = []\n",
    "for arr in stacked_array_list:\n",
    "    mode = calculate_mode(arr.compute())\n",
    "    modes.append(mode)\n"
   ]
  },
  {
   "cell_type": "markdown",
   "metadata": {},
   "source": [
    "Have a look at the distribution of modes to see if there are any samples we want to filter off the bat"
   ]
  },
  {
   "cell_type": "code",
   "execution_count": 119,
   "metadata": {},
   "outputs": [
    {
     "data": {
      "text/plain": [
       "<Axes: ylabel='Count'>"
      ]
     },
     "execution_count": 119,
     "metadata": {},
     "output_type": "execute_result"
    },
    {
     "data": {
      "image/png": "[encoded data removed]",
      "text/plain": [
       "<Figure size 640x480 with 1 Axes>"
      ]
     },
     "metadata": {},
     "output_type": "display_data"
    }
   ],
   "source": [
    "sns.histplot(modes)"
   ]
  },
  {
   "cell_type": "markdown",
   "metadata": {},
   "source": [
    "Let's remove the samples below 15X"
   ]
  },
  {
   "cell_type": "code",
   "execution_count": 120,
   "metadata": {},
   "outputs": [],
   "source": [
    "files_over_15 = list(np.array(input_files)[np.array(modes) > 15])"
   ]
  },
  {
   "cell_type": "code",
   "execution_count": 124,
   "metadata": {},
   "outputs": [],
   "source": [
    "modes_updated = np.array(modes)[np.array(modes) > 15]\n",
    "overall_mode = np.bincount(list(modes_updated)).argmax()\n"
   ]
  },
  {
   "cell_type": "markdown",
   "metadata": {},
   "source": [
    "Now let's have a look at filtering based on modal coverage"
   ]
  },
  {
   "cell_type": "code",
   "execution_count": 130,
   "metadata": {},
   "outputs": [],
   "source": [
    "arr = stacked_array_list[4].compute()"
   ]
  },
  {
   "cell_type": "code",
   "execution_count": 154,
   "metadata": {},
   "outputs": [],
   "source": []
  },
  {
   "cell_type": "code",
   "execution_count": 166,
   "metadata": {},
   "outputs": [],
   "source": [
    "def return_ind_filter(array, mode):\n",
    "    zerocov = arr != 0 \n",
    "    lowcov = arr > (modes[4]/2)\n",
    "    hicov = arr < (modes[4]*2)\n",
    "    return(zerocov, lowcov, hicov)\n",
    "\n",
    "#for all inds\n",
    "#make arrays containing all of the coverage stats\n",
    "#then sum acdross them to get proportion of individuals pass/fail each condition\n",
    "\n",
    "def return_summed_arrays():\n",
    "\n",
    "    zero_cov_arrays = []\n",
    "    low_cov_arrays = []\n",
    "    hi_cov_arrays = []\n",
    "\n",
    "    for mode, arr in zip(modes, stacked_array_list):\n",
    "\n",
    "        zerocov, lowcov, hicov = return_ind_filter(arr.compute(), mode)\n",
    "\n",
    "        zero_cov_arrays.append(zerocov)\n",
    "        low_cov_arrays.append(lowcov)\n",
    "        hi_cov_arrays.append(hicov)\n",
    "\n",
    "    zero_cov_arrays = np.stack(zero_cov_arrays)\n",
    "    low_cov_arrays = np.stack(low_cov_arrays)\n",
    "    hi_cov_arrays = np.stack(hi_cov_arrays)\n",
    "\n",
    "    zero_cov_bool = np.sum(zero_cov_arrays, axis=0)\n",
    "    low_cov_bool = np.sum(low_cov_arrays, axis=0)\n",
    "    hi_cov_bool = np.sum(hi_cov_arrays, axis=0)\n",
    "\n",
    "    return(zero_cov_bool, low_cov_bool, hi_cov_bool)\n",
    "\n",
    "\n",
    "z,l,h = return_summed_arrays()\n",
    "\n",
    "# open a file, where you ant to store the data\n",
    "with open('data/coverage_summary_stats.pkl', 'wb') as f:\n",
    "    pkl.dump(list[z,l,h], f)"
   ]
  },
  {
   "cell_type": "code",
   "execution_count": 176,
   "metadata": {},
   "outputs": [],
   "source": [
    "with open('data/modes.pkl', 'wb') as f:\n",
    "    pkl.dump(modes, f)"
   ]
  },
  {
   "cell_type": "code",
   "execution_count": 177,
   "metadata": {},
   "outputs": [],
   "source": [
    "with open('data/modes.pkl', 'rb') as f:\n",
    "    modes = pkl.load(f)"
   ]
  },
  {
   "cell_type": "code",
   "execution_count": 179,
   "metadata": {},
   "outputs": [
    {
     "ename": "TypeError",
     "evalue": "tuple expected at most 1 argument, got 3",
     "output_type": "error",
     "traceback": [
      "\u001b[0;31m---------------------------------------------------------------------------\u001b[0m",
      "\u001b[0;31mTypeError\u001b[0m                                 Traceback (most recent call last)",
      "Cell \u001b[0;32mIn[179], line 4\u001b[0m\n\u001b[1;32m      2\u001b[0m b\u001b[38;5;241m=\u001b[39m \u001b[38;5;124m'\u001b[39m\u001b[38;5;124mx\u001b[39m\u001b[38;5;124m'\u001b[39m\n\u001b[1;32m      3\u001b[0m c \u001b[38;5;241m=\u001b[39m \u001b[38;5;124m'\u001b[39m\u001b[38;5;124mf\u001b[39m\u001b[38;5;124m'\u001b[39m\n\u001b[0;32m----> 4\u001b[0m \u001b[38;5;28;43mtuple\u001b[39;49m\u001b[43m(\u001b[49m\u001b[43ma\u001b[49m\u001b[43m,\u001b[49m\u001b[43mb\u001b[49m\u001b[43m,\u001b[49m\u001b[43mc\u001b[49m\u001b[43m)\u001b[49m\n",
      "\u001b[0;31mTypeError\u001b[0m: tuple expected at most 1 argument, got 3"
     ]
    }
   ],
   "source": [
    "a = 1\n",
    "b= 'x'\n",
    "c = 'f'\n",
    "tuple(a,b,c)"
   ]
  }
 ],
 "metadata": {
  "kernelspec": {
   "display_name": "ericmake",
   "language": "python",
   "name": "python3"
  },
  "language_info": {
   "codemirror_mode": {
    "name": "ipython",
    "version": 3
   },
   "file_extension": ".py",
   "mimetype": "text/x-python",
   "name": "python",
   "nbconvert_exporter": "python",
   "pygments_lexer": "ipython3",
   "version": "3.11.8"
  }
 },
 "nbformat": 4,
 "nbformat_minor": 2
}
